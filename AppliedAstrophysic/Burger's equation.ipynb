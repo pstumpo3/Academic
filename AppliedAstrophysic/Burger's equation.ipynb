{
 "cells": [
  {
   "cell_type": "code",
   "execution_count": 1,
   "metadata": {},
   "outputs": [],
   "source": [
    "import pandas as pd\n",
    "from numpy import exp\n",
    "from numpy import linalg\n",
    "import numpy as np\n",
    "import math \n",
    "import matplotlib\n",
    "import matplotlib.pyplot as plt\n",
    "from matplotlib import cm\n",
    "from matplotlib.ticker import LinearLocator, FormatStrFormatter\n",
    "from mpl_toolkits.mplot3d import Axes3D\n",
    "from matplotlib.pyplot import figure"
   ]
  },
  {
   "cell_type": "code",
   "execution_count": 65,
   "metadata": {},
   "outputs": [],
   "source": [
    "#inizializzo la griglia\n",
    "x_up = 10\n",
    "x_down = 0\n",
    "x_0 = 5\n",
    "c_f = 0.5\n",
    "a = 1\n",
    "T=0.5\n",
    "Nx=251\n",
    "dx = (x_up - x_down)/(Nx - 1)\n",
    "x = np.linspace(x_down, x_up, Nx)\n",
    "\n",
    "#dato iniziale\n",
    "u_0 = 10*exp(-(x-x_0)**2)\n",
    "\n",
    "dt = c_f * dx / (linalg.norm(u_0))\n",
    "Nt = math.ceil(T/dt) + 1\n",
    "\n",
    "#inizializzo la soluzione\n",
    "U_cons = np.zeros([Nx, Nt])\n",
    "U_non_cons = np.zeros([Nx, Nt])\n",
    "U_cons[:,0] = u_0\n",
    "U_non_cons[:,0] = u_0"
   ]
  },
  {
   "cell_type": "code",
   "execution_count": 66,
   "metadata": {},
   "outputs": [
    {
     "name": "stdout",
     "output_type": "stream",
     "text": [
      "1401\n"
     ]
    }
   ],
   "source": [
    "print(Nt)"
   ]
  },
  {
   "cell_type": "code",
   "execution_count": 67,
   "metadata": {},
   "outputs": [],
   "source": [
    "#####APPLICO UPWIND IN FORMA CONSERVATIVA\n",
    "\n",
    "for n in range (Nt-1):\n",
    "    #condizioni al contorno periodiche\n",
    "    U_cons[0,n+1] = U_cons[0,n] - dt/dx * (1/2 * (U_cons[0,n]**2) - 1/2 * (U_cons[Nx-2, n])**2)\n",
    "    \n",
    "    #corpo\n",
    "    U_cons[1:Nx, n+1] = U_cons[1:Nx,n] - dt/dx * (1/2 * (U_cons[1:Nx,n]**2) - 1/2 * (U_cons[0:Nx-1, n])**2)"
   ]
  },
  {
   "cell_type": "code",
   "execution_count": 70,
   "metadata": {},
   "outputs": [],
   "source": [
    "#####APPLICO UPWIND IN FORMA NON CONSERVATIVA\n",
    "\n",
    "for n in range (Nt-1):\n",
    "    #condizioni al contorno periodiche\n",
    "    U_non_cons[0,n+1] = U_non_cons[0,n] - (dt/dx * U_non_cons[0,n]) * (U_non_cons[0,n] - U_non_cons[Nx-2, n])\n",
    "    \n",
    "    #corpo\n",
    "    U_non_cons[1:Nx, n+1] = U_non_cons[1:Nx,n] - (dt/dx * U_non_cons[1:Nx, n+1]) * (U_non_cons[1:Nx,n] - U_non_cons[0:Nx-1, n])"
   ]
  },
  {
   "cell_type": "code",
   "execution_count": 72,
   "metadata": {},
   "outputs": [],
   "source": [
    "for i in range (Nt):\n",
    "    plt.plot(x,U_cons[:,i], label = 'upwind \\nconservative \\nform')\n",
    "    plt.plot(x, U_non_cons[:,i], label = 'upwind \\nnon conservative \\nform')\n",
    "    plt.xlabel('x')\n",
    "    plt.ylabel('y')\n",
    "    plt.title('t = ' + str((i*0.5)/1401) + 's')\n",
    "    plt.legend(loc = 'upper left')\n",
    "    plt.ylim(0,10.1)\n",
    "    plt.savefig('_'+str(i)+'_.png')\n",
    "    plt.close()"
   ]
  },
  {
   "cell_type": "code",
   "execution_count": 71,
   "metadata": {
    "scrolled": true
   },
   "outputs": [
    {
     "data": {
      "image/png": "[encoded data removed]",
      "text/plain": [
       "<Figure size 432x288 with 1 Axes>"
      ]
     },
     "metadata": {
      "needs_background": "light"
     },
     "output_type": "display_data"
    }
   ],
   "source": [
    "plt.plot(x,U_cons[:,Nt-1], label = 'upwind \\nconservative \\nform')\n",
    "plt.plot(x, U_non_cons[:,Nt-1], label = 'upwind \\nnon conservative \\nform')\n",
    "plt.xlabel('x')\n",
    "plt.ylabel('y')\n",
    "plt.title('t = 0.5 s')\n",
    "plt.legend(loc = 'upper left')\n",
    "#plt.ylim(0,10.1)\n",
    "plt.savefig('situazione_finale_251punti.png')"
   ]
  },
  {
   "cell_type": "code",
   "execution_count": null,
   "metadata": {},
   "outputs": [],
   "source": []
  },
  {
   "cell_type": "code",
   "execution_count": null,
   "metadata": {},
   "outputs": [],
   "source": []
  }
 ],
 "metadata": {
  "kernelspec": {
   "display_name": "Python 3",
   "language": "python",
   "name": "python3"
  },
  "language_info": {
   "codemirror_mode": {
    "name": "ipython",
    "version": 3
   },
   "file_extension": ".py",
   "mimetype": "text/x-python",
   "name": "python",
   "nbconvert_exporter": "python",
   "pygments_lexer": "ipython3",
   "version": "3.8.5"
  }
 },
 "nbformat": 4,
 "nbformat_minor": 2
}
